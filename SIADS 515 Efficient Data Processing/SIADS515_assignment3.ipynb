{
 "cells": [
  {
   "cell_type": "markdown",
   "metadata": {},
   "source": [
    "Before you turn this problem in, make sure everything runs as expected. First, **restart the kernel** (in the menubar, select Kernel$\\rightarrow$Restart) and then **run all cells** (in the menubar, select Cell$\\rightarrow$Run All).\n",
    "\n",
    "Make sure you fill in any place that says `YOUR CODE HERE` or \"YOUR ANSWER HERE\"."
   ]
  },
  {
   "cell_type": "code",
   "execution_count": 2,
   "metadata": {},
   "outputs": [],
   "source": [
    "# Please add your name and University of Michagan uniqname here...\n",
    "\n",
    "NAME = 'Ilana Multak'\n",
    "UMICH_UNIQNAME = 'imultak'"
   ]
  },
  {
   "cell_type": "markdown",
   "metadata": {},
   "source": [
    "---"
   ]
  },
  {
   "cell_type": "code",
   "execution_count": 3,
   "metadata": {
    "deletable": false,
    "editable": false,
    "nbgrader": {
     "cell_type": "code",
     "checksum": "7f6d3df4c122f3689a18bb68364d8026",
     "grade": false,
     "grade_id": "cell-b788751832e526dc",
     "locked": true,
     "schema_version": 3,
     "solution": false
    }
   },
   "outputs": [],
   "source": [
    "version = \"REPLACE_PACKAGE_VERSION\""
   ]
  },
  {
   "cell_type": "code",
   "execution_count": 4,
   "metadata": {},
   "outputs": [],
   "source": [
    "version = \"v2.3.060120\""
   ]
  },
  {
   "cell_type": "markdown",
   "metadata": {
    "deletable": false,
    "editable": false,
    "nbgrader": {
     "cell_type": "markdown",
     "checksum": "36aa80f711fc03f61d34db8f5a83fa7d",
     "grade": false,
     "grade_id": "cell-308c9d70ee0428b0",
     "locked": true,
     "schema_version": 3,
     "solution": false
    }
   },
   "source": [
    "# SIADS 515 Week 3 Homework (HW3)\n",
    "\n",
    "\n",
    "*The notebook for this assignment is a little different. There are bugs and problems in the existing code that you need to fix in order to get the assert statements to pass. There are no hidden grader cells in this assignment. If you run the first cell under each question title, you’ll either get errors or it will produce the wrong answer. Fix these to get the assert statements to pass. Since there are no hidden assert statements, there’s no real benefit to submitting before you’ve finished your work.*\n",
    "\n",
    "Think of this assignment in the following way:  it's your first day on the job and you've been given a notebook that was authored by someone who is no longer with your company.  You've been asked to fix it.  There are errors in it, and some of it was not completed by the original author.  You're lucky, though, as there are assertions\n",
    "sprinkled throughout the notebook to help guide you along the way.\n",
    "\n",
    "\n",
    "Top-level goal of notebook:\n",
    "Read a CSV file into a pandas DataFrame and add specific columns to it.\n",
    "These columns are added by applying functions to specific columns.\n",
    "The columns to add include:\n",
    "1. A datetime column that converts \"Garmin time\" to standard (unix epoch) time.  Note that Garmin doesn't use standard epoch offsets for their timestamps.  Rather than using the number of seconds that have elapsed since midnight on January 1, 1970, they use the number of seconds from midnight on December 31, 1989.\n",
    "\n",
    "2. A conversion of \"semicircles\" of latitude and longitude to two different formats: degrees, minutes, seconds 3-tuples and fractional degrees.  For example, a latitude of 504719750 semicircles corresponds to a 3-tuple of degrees, minutes and seconds of (42, 18, 18.43) and 42.305121 degrees.\n",
    "\n",
    "3. A \"normalized speed\" column that consists of the values for speed modified to remove outliers by replacing them with upper and lower bounds as well as normalized to z-values (i.e. by subtracting the mean from each value and dividing the result by the standard deviation).\n",
    "\n",
    "In addition, you will need to complete a function that looks at the difference between sequential rows to determine whether the cyclist is slowing down or not.\n",
    "\n",
    "Your task for this assignment is to debug this notebook to produce the desired results as shown in the assertions below.\n",
    "\n",
    "---"
   ]
  },
  {
   "cell_type": "markdown",
   "metadata": {
    "deletable": false,
    "editable": false,
    "nbgrader": {
     "cell_type": "markdown",
     "checksum": "a2003ce89900ecf74f1bc1bc93fc2a05",
     "grade": false,
     "grade_id": "cell-77cd98b6bcc7ddfd",
     "locked": true,
     "schema_version": 3,
     "solution": false
    }
   },
   "source": [
    "## Question 1"
   ]
  },
  {
   "cell_type": "code",
   "execution_count": 12,
   "metadata": {},
   "outputs": [],
   "source": [
    "import pandas as pd\n",
    "import numpy as np\n",
    "ride = pd.read_csv('assets/ride_final2.csv')\n",
    "ride.head()\n",
    "\n",
    "def garmin_time_to_datetime(series):\n",
    "    \"\"\"Convert Garmin FIT time by adding the number of \n",
    "    seconds from January 1, 1970 to December 31, 1989.\n",
    "    \"\"\"\n",
    "    \n",
    "    return pd.to_datetime(series + 631065600, unit='s', utc=True)"
   ]
  },
  {
   "cell_type": "code",
   "execution_count": 13,
   "metadata": {
    "deletable": false,
    "nbgrader": {
     "cell_type": "code",
     "checksum": "99c5d3c6b5afa360a3db4ad6b49d2918",
     "grade": false,
     "grade_id": "cell-2b3a2c26628bb706",
     "locked": false,
     "schema_version": 3,
     "solution": true
    }
   },
   "outputs": [],
   "source": [
    "ride['Timestamp_datetime'] = ride.Timestamp.map(garmin_time_to_datetime)"
   ]
  },
  {
   "cell_type": "code",
   "execution_count": 14,
   "metadata": {
    "deletable": false,
    "editable": false,
    "nbgrader": {
     "cell_type": "code",
     "checksum": "71b660f8fab04d7073812f294a8e0be9",
     "grade": true,
     "grade_id": "cell-8868f43f56a6d443",
     "locked": true,
     "points": 10,
     "schema_version": 3,
     "solution": false
    }
   },
   "outputs": [],
   "source": [
    "# This is a read-only grader cell\n",
    "\n",
    "ride['Timestamp_datetime'] = ride.Timestamp.map(garmin_time_to_datetime)\n",
    "\n",
    "assert ride.Timestamp_datetime[0] == pd.to_datetime('2018-05-23T14:02:25', utc=True)"
   ]
  },
  {
   "cell_type": "markdown",
   "metadata": {},
   "source": [
    "## Question 2"
   ]
  },
  {
   "cell_type": "code",
   "execution_count": 95,
   "metadata": {},
   "outputs": [],
   "source": [
    "def semicircles_to_degrees(semicircles):\n",
    "    '''\n",
    "    Convert semicircles to degrees\n",
    "    '''\n",
    "    max_31_bit_int = 2**31\n",
    "    return semicircles * (180/max_31_bit_int)\n",
    "\n",
    "\n",
    "def degrees_to_dms(degrees_fraction):\n",
    "    ''' Convert degrees to degree, minute, second 3-tuples'''\n",
    "    degrees = int(degrees_fraction)\n",
    "    minutes = int((degrees_fraction - degrees) * 60)\n",
    "    seconds = round((degrees_fraction - degrees - minutes/60) * 3600, 2)\n",
    "    return (degrees, abs(minutes), abs(seconds))\n",
    "\n",
    "\n",
    "def dms_to_degrees(d,m,s):\n",
    "    ''' Convert degrees, minutes, seconds to fractional degrees'''\n",
    "    return d+m/60+s/3600"
   ]
  },
  {
   "cell_type": "code",
   "execution_count": 96,
   "metadata": {
    "deletable": false,
    "nbgrader": {
     "cell_type": "code",
     "checksum": "ab9622dd1a6953357502100b55c3c91f",
     "grade": false,
     "grade_id": "cell-f5797d720b072f0e",
     "locked": false,
     "schema_version": 3,
     "solution": true
    }
   },
   "outputs": [
    {
     "data": {
      "text/plain": [
       "42.28333333333333"
      ]
     },
     "execution_count": 96,
     "metadata": {},
     "output_type": "execute_result"
    }
   ],
   "source": [
    "dms_to_degrees(*degrees_to_dms(42.2833333333))"
   ]
  },
  {
   "cell_type": "code",
   "execution_count": 97,
   "metadata": {},
   "outputs": [],
   "source": [
    "dms = degrees_to_dms(42.2833333)\n",
    "assert dms[1] < 60"
   ]
  },
  {
   "cell_type": "code",
   "execution_count": 98,
   "metadata": {},
   "outputs": [],
   "source": [
    "dms = degrees_to_dms(59.99988)\n",
    "assert dms[2] < 60"
   ]
  },
  {
   "cell_type": "code",
   "execution_count": 108,
   "metadata": {},
   "outputs": [],
   "source": [
    "ride['Latitude_degrees'] = ride['Latitude'].map(semicircles_to_degrees)\n",
    "ride['Longitude_degrees'] = ride['Longitude'].map(semicircles_to_degrees)\n",
    "ride['Latitude_dms'] = ride['Latitude_degrees'].map(degrees_to_dms)\n",
    "ride['Longitude_dms'] = ride['Longitude_degrees'].map(degrees_to_dms)\n",
    "\n",
    "last_row = ride.iloc[213]\n",
    "assert last_row.Latitude_dms == (42, 16, 50.05)\n",
    "assert last_row.Longitude_dms == (-83,44,21.99)"
   ]
  },
  {
   "cell_type": "code",
   "execution_count": 104,
   "metadata": {
    "deletable": false,
    "editable": false,
    "nbgrader": {
     "cell_type": "code",
     "checksum": "5415004a8523c1638ece8eeb5030b891",
     "grade": true,
     "grade_id": "cell-4710d465fe29c816",
     "locked": true,
     "points": 10,
     "schema_version": 3,
     "solution": false
    }
   },
   "outputs": [
    {
     "ename": "AssertionError",
     "evalue": "",
     "output_type": "error",
     "traceback": [
      "\u001b[0;31m---------------------------------------------------------------------------\u001b[0m",
      "\u001b[0;31mAssertionError\u001b[0m                            Traceback (most recent call last)",
      "Input \u001b[0;32mIn [104]\u001b[0m, in \u001b[0;36m<cell line: 9>\u001b[0;34m()\u001b[0m\n\u001b[1;32m      7\u001b[0m \u001b[38;5;28;01massert\u001b[39;00m dms[\u001b[38;5;241m1\u001b[39m] \u001b[38;5;241m<\u001b[39m \u001b[38;5;241m60\u001b[39m\n\u001b[1;32m      8\u001b[0m \u001b[38;5;28;01massert\u001b[39;00m dms[\u001b[38;5;241m2\u001b[39m] \u001b[38;5;241m>\u001b[39m\u001b[38;5;241m=\u001b[39m \u001b[38;5;241m0\u001b[39m\n\u001b[0;32m----> 9\u001b[0m \u001b[38;5;28;01massert\u001b[39;00m dms[\u001b[38;5;241m2\u001b[39m] \u001b[38;5;241m<\u001b[39m \u001b[38;5;241m60\u001b[39m\n\u001b[1;32m     10\u001b[0m \u001b[38;5;28;01massert\u001b[39;00m dms \u001b[38;5;241m==\u001b[39m (\u001b[38;5;241m42\u001b[39m, \u001b[38;5;241m16\u001b[39m, \u001b[38;5;241m59.99988\u001b[39m)\n\u001b[1;32m     11\u001b[0m \u001b[38;5;28;01massert\u001b[39;00m dms_to_degrees(dms[\u001b[38;5;241m0\u001b[39m], dms[\u001b[38;5;241m1\u001b[39m], dms[\u001b[38;5;241m2\u001b[39m]) \u001b[38;5;241m==\u001b[39m \u001b[38;5;241m42.2833333\u001b[39m\n",
      "\u001b[0;31mAssertionError\u001b[0m: "
     ]
    }
   ],
   "source": [
    "# This is a read-only grader cell\n",
    "\n",
    "dms = degrees_to_dms(42.2833333)\n",
    "assert dms[0] >= -180\n",
    "assert dms[0] <= 180\n",
    "assert dms[1] >= 0\n",
    "assert dms[1] < 60\n",
    "assert dms[2] >= 0\n",
    "assert dms[2] < 60\n",
    "assert dms == (42, 16, 59.99988)\n",
    "assert dms_to_degrees(dms[0], dms[1], dms[2]) == 42.2833333\n",
    "\n",
    "ride['Latitude_degrees'] = ride['Latitude'].map(semicircles_to_degrees)\n",
    "ride['Longitude_degrees'] = ride['Longitude'].map(semicircles_to_degrees)\n",
    "ride['Latitude_dms'] = ride['Latitude_degrees'].map(degrees_to_dms)\n",
    "ride['Longitude_dms'] = ride['Longitude_degrees'].map(degrees_to_dms)\n",
    "\n",
    "last_row = ride.iloc[213]\n",
    "assert round(last_row.Latitude_degrees,6) == 42.280569\n",
    "assert round(last_row.Longitude_degrees,6) == -83.739442"
   ]
  },
  {
   "cell_type": "markdown",
   "metadata": {
    "deletable": false,
    "editable": false,
    "nbgrader": {
     "cell_type": "markdown",
     "checksum": "16be1e3b5209d5ed258feb27117b58c3",
     "grade": false,
     "grade_id": "cell-2f14b92545ac9a96",
     "locked": true,
     "schema_version": 3,
     "solution": false
    }
   },
   "source": [
    "## Question 3"
   ]
  },
  {
   "cell_type": "code",
   "execution_count": 42,
   "metadata": {},
   "outputs": [],
   "source": [
    "def normalize(df, pd_series_name, nsd=2):\n",
    "    '''\n",
    "    Take all values that are outside some bound (mean +- 2 sd by default)\n",
    "    and convert them to the appropriate bound.\n",
    "    Scale the results to z-scores before returning them\n",
    "    '''\n",
    "    df = df.copy()\n",
    "    pd_series = df[pd_series_name].astype(float)\n",
    "\n",
    "    # Find upper and lower bound for outliers\n",
    "    avg = np.mean(pd_series)\n",
    "    sd  = np.std(pd_series)\n",
    "\n",
    "    # Calculate the bounds\n",
    "    lower_bound = avg - nsd*sd\n",
    "    upper_bound = avg + nsd*sd\n",
    "\n",
    "    # Collapse in the outliers: replace them with appropriate bound\n",
    "    df.loc[pd_series < lower_bound , pd_series_name ] = lower_bound\n",
    "    df.loc[pd_series > upper_bound , pd_series_name ] = upper_bound\n",
    "    \n",
    "    return (df[pd_series_name] - avg) / sd"
   ]
  },
  {
   "cell_type": "code",
   "execution_count": null,
   "metadata": {
    "deletable": false,
    "nbgrader": {
     "cell_type": "code",
     "checksum": "e0865367514ae71e22373b7230ff1db7",
     "grade": false,
     "grade_id": "cell-01d948a85f3c81e8",
     "locked": false,
     "schema_version": 3,
     "solution": true
    }
   },
   "outputs": [],
   "source": []
  },
  {
   "cell_type": "code",
   "execution_count": 43,
   "metadata": {
    "deletable": false,
    "editable": false,
    "nbgrader": {
     "cell_type": "code",
     "checksum": "8ca17c23ab6272ddba2344ab3a58e268",
     "grade": true,
     "grade_id": "cell-0c910c3906ac1751",
     "locked": true,
     "points": 10,
     "schema_version": 3,
     "solution": false
    }
   },
   "outputs": [],
   "source": [
    "# This is a read-only grader cell\n",
    "\n",
    "ride['Speed_normalized'] = normalize(ride,'Speed')\n",
    "\n",
    "assert round(ride.iloc[0].Speed_normalized,4) == -1.7737\n",
    "assert ride.iloc[213].Speed_normalized == -2.0"
   ]
  },
  {
   "cell_type": "markdown",
   "metadata": {
    "deletable": false,
    "editable": false,
    "nbgrader": {
     "cell_type": "markdown",
     "checksum": "451f5018dbf3d3656ab6d5dd108b00fa",
     "grade": false,
     "grade_id": "cell-806080902d510f99",
     "locked": true,
     "schema_version": 3,
     "solution": false
    }
   },
   "source": [
    "## Question 4"
   ]
  },
  {
   "cell_type": "code",
   "execution_count": 44,
   "metadata": {},
   "outputs": [],
   "source": [
    "def proportion_slowing(df,series_name):\n",
    "    ''' Calculate the proportion of rows that represent a slower speed than the previous row'''\n",
    "    #return 0 # whoops -- ran out of time to do this before I got fired!\n",
    "    count = 0\n",
    "    initial_index = df.index[0]\n",
    "    for i in range(len(df[series_name])):\n",
    "        if i==0:\n",
    "            pass\n",
    "        elif df[series_name][i+initial_index] < df[series_name][(i-1)+initial_index]:\n",
    "            count +=1\n",
    "    return count/len(df[series_name])"
   ]
  },
  {
   "cell_type": "code",
   "execution_count": null,
   "metadata": {
    "deletable": false,
    "nbgrader": {
     "cell_type": "code",
     "checksum": "7173aa6eb4e0099dcde617dbdc817c4f",
     "grade": false,
     "grade_id": "cell-1cc7315a8a08ba64",
     "locked": false,
     "schema_version": 3,
     "solution": true
    }
   },
   "outputs": [],
   "source": []
  },
  {
   "cell_type": "code",
   "execution_count": 45,
   "metadata": {
    "deletable": false,
    "editable": false,
    "nbgrader": {
     "cell_type": "code",
     "checksum": "8cb94b2430e702e32a7580de4a8fae93",
     "grade": true,
     "grade_id": "cell-2632f42cc211e6ca",
     "locked": true,
     "points": 20,
     "schema_version": 3,
     "solution": false
    }
   },
   "outputs": [],
   "source": [
    "# This is a read-only grader cell\n",
    "\n",
    "assert round(proportion_slowing(ride,'Speed_normalized'),6) == 0.514019\n",
    "assert round(proportion_slowing(ride[:10],'Speed_normalized'),6) == 0.4\n",
    "assert round(proportion_slowing(ride[10:],'Speed_normalized'),6) == 0.519608"
   ]
  },
  {
   "cell_type": "code",
   "execution_count": null,
   "metadata": {},
   "outputs": [],
   "source": []
  }
 ],
 "metadata": {
  "coursera": {
   "schema_names": [
    "mads_efficient_data_processing_v3_assignment3"
   ]
  },
  "kernelspec": {
   "display_name": "Python 3 (ipykernel)",
   "language": "python",
   "name": "python3"
  },
  "language_info": {
   "codemirror_mode": {
    "name": "ipython",
    "version": 3
   },
   "file_extension": ".py",
   "mimetype": "text/x-python",
   "name": "python",
   "nbconvert_exporter": "python",
   "pygments_lexer": "ipython3",
   "version": "3.8.10"
  }
 },
 "nbformat": 4,
 "nbformat_minor": 4
}
