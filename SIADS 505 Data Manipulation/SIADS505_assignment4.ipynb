{
 "cells": [
  {
   "cell_type": "markdown",
   "metadata": {
    "deletable": false,
    "editable": false,
    "nbgrader": {
     "checksum": "b782e0547c33637a1b1fde040d79733a",
     "grade": false,
     "grade_id": "cell-a6c4f74309fc2379",
     "locked": true,
     "schema_version": 1,
     "solution": false
    }
   },
   "source": [
    "# Assignment 4\n",
    "## Description\n",
    "In this assignment you must read in a file of metropolitan regions and associated sports teams from [assets/wikipedia_data.html](assets/wikipedia_data.html) and answer some questions about each metropolitan region. Each of these regions may have one or more teams from the \"Big 4\": NFL (football, in [assets/nfl.csv](assets/nfl.csv)), MLB (baseball, in [assets/mlb.csv](assets/mlb.csv)), NBA (basketball, in [assets/nba.csv](assets/nba.csv) or NHL (hockey, in [assets/nhl.csv](assets/nhl.csv)). Please keep in mind that all questions are from the perspective of the metropolitan region, and that this file is the \"source of authority\" for the location of a given sports team. Thus teams which are commonly known by a different area (e.g. \"Oakland Raiders\") need to be mapped into the metropolitan region given (e.g. San Francisco Bay Area). This will require some human data understanding outside of the data you've been given (e.g. you will have to hand-code some names, and might need to google to find out where teams are)!\n",
    "\n",
    "For each sport I would like you to answer the question: **what is the win percentage's correlation with the population of the city it is in?** Win/Loss ratio refers to the number of wins over the number of wins plus the number of losses. Remember that to calculate the correlation with [`pearsonr`](https://docs.scipy.org/doc/scipy/reference/generated/scipy.stats.pearsonr.html), so you are going to send in two ordered lists of values, the populations from the wikipedia_data.html file and the win/loss ratio for a given sport in the same order. Average the win/loss ratios for those cities which have multiple teams of a single sport. Each sport is worth an equal amount in this assignment (20%\\*4=80%) of the grade for this assignment. You should only use data **from year 2018** for your analysis -- this is important!\n",
    "\n",
    "## Notes\n",
    "\n",
    "1. Do not include data about the MLS or CFL in any of the work you are doing, we're only interested in the Big 4 in this assignment.\n",
    "2. I highly suggest that you first tackle the four correlation questions in order, as they are all similar and worth the majority of grades for this assignment. This is by design!\n",
    "3. It's fair game to talk with peers about high level strategy as well as the relationship between metropolitan areas and sports teams. However, do not post code solving aspects of the assignment (including such as dictionaries mapping areas to teams, or regexes which will clean up names).\n",
    "4. There may be more teams than the assert statements test, remember to collapse multiple teams in one city into a single value!"
   ]
  },
  {
   "cell_type": "markdown",
   "metadata": {
    "deletable": false,
    "editable": false,
    "nbgrader": {
     "checksum": "0c660dc6bd33d6611d5c7bb9dc2adfcf",
     "grade": false,
     "grade_id": "cell-712b2b5da63d4505",
     "locked": true,
     "schema_version": 1,
     "solution": false
    }
   },
   "source": [
    "## Question 1\n",
    "For this question, calculate the win percentage's correlation with the population of the city it is in for the **NHL** using **2018** data. The win percentage ratio should be calculated using the following formula: **win/(win+loss)**. Then, return (a) population per region, (b) win percentage ratio per region, and (c) the correlation between these two. "
   ]
  },
  {
   "cell_type": "code",
   "execution_count": 1,
   "metadata": {},
   "outputs": [
    {
     "data": {
      "text/plain": [
       "(Metropolitan area\n",
       " Boston                     4794447.0\n",
       " Buffalo                    1132804.0\n",
       " Calgary                    1392609.0\n",
       " Chicago                    9512999.0\n",
       " Columbus                   2041520.0\n",
       " Dallas–Fort Worth          7233323.0\n",
       " Denver                     2853077.0\n",
       " Detroit                    4297617.0\n",
       " Edmonton                   1321426.0\n",
       " Las Vegas                  2155664.0\n",
       " Los Angeles               13310447.0\n",
       " Miami–Fort Lauderdale      6066387.0\n",
       " Minneapolis–Saint Paul     3551036.0\n",
       " Montreal                   4098927.0\n",
       " Nashville                  1865298.0\n",
       " New York City             20153634.0\n",
       " Ottawa                     1323783.0\n",
       " Philadelphia               6070500.0\n",
       " Phoenix                    4661537.0\n",
       " Pittsburgh                 2342299.0\n",
       " Raleigh                    1302946.0\n",
       " San Francisco Bay Area     6657982.0\n",
       " St. Louis                  2807002.0\n",
       " Tampa Bay Area             3032171.0\n",
       " Toronto                    5928040.0\n",
       " Vancouver                  2463431.0\n",
       " Washington, D.C.           6131977.0\n",
       " Winnipeg                    778489.0\n",
       " Name: Population, dtype: float64,\n",
       " Metropolitan area\n",
       " Boston                    0.714286\n",
       " Buffalo                   0.357143\n",
       " Calgary                   0.513889\n",
       " Chicago                   0.458333\n",
       " Columbus                  0.600000\n",
       " Dallas–Fort Worth         0.567568\n",
       " Denver                    0.589041\n",
       " Detroit                   0.434783\n",
       " Edmonton                  0.473684\n",
       " Las Vegas                 0.680000\n",
       " Los Angeles               0.622895\n",
       " Miami–Fort Lauderdale     0.594595\n",
       " Minneapolis–Saint Paul    0.633803\n",
       " Montreal                  0.420290\n",
       " Nashville                 0.746479\n",
       " New York City             0.518201\n",
       " Ottawa                    0.394366\n",
       " Philadelphia              0.617647\n",
       " Phoenix                   0.414286\n",
       " Pittsburgh                0.618421\n",
       " Raleigh                   0.507042\n",
       " San Francisco Bay Area    0.625000\n",
       " St. Louis                 0.578947\n",
       " Tampa Bay Area            0.701299\n",
       " Toronto                   0.653333\n",
       " Vancouver                 0.436620\n",
       " Washington, D.C.          0.653333\n",
       " Winnipeg                  0.722222\n",
       " Name: ratio, dtype: float64,\n",
       " 0.012486162921209895)"
      ]
     },
     "execution_count": 1,
     "metadata": {},
     "output_type": "execute_result"
    }
   ],
   "source": [
    "import pandas as pd\n",
    "import numpy as np\n",
    "import scipy.stats as stats\n",
    "import re\n",
    "\n",
    "def nhl_correlation(): \n",
    "    nhl_df = pd.read_csv(\"assets/nhl.csv\")\n",
    "\n",
    "    cities_df = pd.read_html(\"assets/wikipedia_data.html\")[1]\n",
    "    cities_df = cities_df.iloc[:-1,[0,3,5,6,7,8]]\n",
    "    \n",
    "    cities_df.rename(columns={'Population (2016 est.)[8]':'Population'}, inplace=True)\n",
    "    cities_df = cities_df.astype({'Population': 'int64'}) \n",
    "    cities_df = cities_df.replace('(\\[note\\s\\d{1,10}\\])', '', regex=True)\n",
    "    cities_df = cities_df.replace('—[\\s]?', \" \", regex=True)\n",
    "\n",
    "    single_teams_df = cities_df['NHL'].str.replace( r\"(?<!\\s)(?=[A-Z])\", '+', regex=True)\n",
    "    single_teams_df= single_teams_df.str.lstrip('+')\n",
    "    single_teams_df= single_teams_df.str.split('+')\n",
    "\n",
    "    cities_df['NHL'] = single_teams_df\n",
    "    cities_df = cities_df.drop(['NFL', 'MLB', 'NBA'], axis=1)\n",
    "    cities_df = cities_df.explode('NHL').reset_index(drop=True)\n",
    "    cities_df['NHL'] = cities_df['NHL'].str.split().str[-1]\n",
    "\n",
    "    nhl_df = (nhl_df[nhl_df['year'] == 2018]\n",
    "                  .replace('\\*','',regex=True)[['team','W','L']][~nhl_df['team'].str.contains(\"Division\")]).reset_index(drop=True)\n",
    "    \n",
    "\n",
    "    nhl_df = nhl_df.astype({'W': 'int64','L': 'int64' }) \n",
    "    nhl_df['W/L%'] = nhl_df['W'] / (nhl_df['W'] + nhl_df['L'])\n",
    "    nhl_df.drop(['W','L'], inplace=True, axis=1) \n",
    "    nhl_df.rename(columns={'W/L%':'ratio'}, inplace=True)\n",
    "    nhl_df['team'] = nhl_df['team'].str.replace(r'\\*',\"\")\n",
    "    nhl_df['team'] = nhl_df['team'].str.split().str[-1]\n",
    "\n",
    "    combined_city_nhl_df = pd.merge(nhl_df, cities_df,\n",
    "                                    how='inner', \n",
    "                                    left_on='team',\n",
    "                                    right_on='NHL').groupby('Metropolitan area').agg({'ratio': np.mean, 'Population': np.mean})                                                                                                                 \n",
    "    \n",
    "    #combined_city_nhl_df = combined_city_nhl_df.groupby('Metropolitan area').agg({'ratio': np.mean, 'Population': np.mean})\n",
    "\n",
    "    \n",
    "    population_by_region = combined_city_nhl_df['Population'] \n",
    "    win_loss_by_region = combined_city_nhl_df['ratio']\n",
    "\n",
    "    correlation = stats.pearsonr(population_by_region, win_loss_by_region)[0]\n",
    "    return population_by_region, win_loss_by_region, correlation\n",
    "\n",
    "\n",
    "nhl_correlation()"
   ]
  },
  {
   "cell_type": "code",
   "execution_count": 2,
   "metadata": {
    "deletable": false,
    "nbgrader": {
     "checksum": "cfccaf29591f784581d224408f598e99",
     "grade": false,
     "grade_id": "cell-69b16e4386e58030",
     "locked": false,
     "schema_version": 1,
     "solution": true
    }
   },
   "outputs": [],
   "source": [
    "population_by_region, win_loss_by_region, correlation = nhl_correlation()\n",
    "\n",
    "assert len(population_by_region) == len(win_loss_by_region), \"Q1: Your lists must be the same length\"\n",
    "assert len(population_by_region) == 28, \"Q1: There should be 28 teams being analysed for NHL\"\n"
   ]
  },
  {
   "cell_type": "code",
   "execution_count": 3,
   "metadata": {
    "deletable": false,
    "editable": false,
    "nbgrader": {
     "checksum": "81ff64569aef13592e69944e6e170dd6",
     "grade": true,
     "grade_id": "cell-ebe0b2dfe1067e63",
     "locked": true,
     "points": 20,
     "schema_version": 1,
     "solution": false
    }
   },
   "outputs": [],
   "source": [
    "population_by_region, win_loss_by_region, correlation = nhl_correlation()\n",
    "\n",
    "assert len(population_by_region) == len(win_loss_by_region), \"Q1: Your lists must be the same length\"\n",
    "assert len(population_by_region) == 28, \"Q1: There should be 28 teams being analysed for NHL\"\n"
   ]
  },
  {
   "cell_type": "markdown",
   "metadata": {
    "deletable": false,
    "editable": false,
    "nbgrader": {
     "checksum": "b6f83da7d4b0c992604fd22b3a888416",
     "grade": false,
     "grade_id": "cell-cb964e690298b71d",
     "locked": true,
     "schema_version": 1,
     "solution": false
    }
   },
   "source": [
    "## Question 2\n",
    "For this question, calculate the win percentage's correlation with the population of the city it is in for the **NBA** using **2018** data. The win percentage ratio should be calculated using the following formula: **win/(win+loss)**. Then, return (a) population per region, (b) win percentage ratio per region, and (c) the correlation between these two. "
   ]
  },
  {
   "cell_type": "code",
   "execution_count": 4,
   "metadata": {
    "deletable": false,
    "nbgrader": {
     "checksum": "50a7b22b338b03d75905548683cd8b5b",
     "grade": false,
     "grade_id": "cell-5a5f21279e3d3572",
     "locked": false,
     "schema_version": 1,
     "solution": true
    }
   },
   "outputs": [],
   "source": [
    "import pandas as pd\n",
    "import numpy as np\n",
    "import scipy.stats as stats\n",
    "import re\n",
    "\n",
    "def nba_correlation():\n",
    "\n",
    "    \n",
    "    nba_df=pd.read_csv(\"assets/nba.csv\")\n",
    "    cities_df=pd.read_html(\"assets/wikipedia_data.html\")[1]\n",
    "    cities_df=cities_df.iloc[:-1,[0,3,5,6,7,8]]\n",
    "    \n",
    "    cities_df.rename(columns={'Population (2016 est.)[8]':'Population'}, inplace=True)\n",
    "    cities_df = cities_df.astype({'Population': 'int64'}) \n",
    "    cities_df = cities_df.replace('(\\[note\\s\\d{1,10}\\])', '', regex=True)\n",
    "    cities_df = cities_df.replace('—[\\s]?', \" \", regex=True)\n",
    "    #display(cities_df)\n",
    "    \n",
    "    single_teams_df = cities_df['NBA'].str.replace( r\"(?<!\\s)(?=[A-Z])\", '+', regex=True)\n",
    "    single_teams_df= single_teams_df.str.lstrip('+')\n",
    "    single_teams_df= single_teams_df.str.split('+')\n",
    "\n",
    "    cities_df['NBA'] = single_teams_df\n",
    "    cities_df = cities_df.drop(['NFL', 'MLB', 'NHL'], axis=1)\n",
    "    cities_df = cities_df.explode('NBA').reset_index(drop=True)\n",
    "    cities_df['NBA'] = cities_df['NBA'].str.split().str[-1]\n",
    "    #display(cities_df)\n",
    "    \n",
    "    nba_df = (nba_df[nba_df['year'] == 2018]\n",
    "                  .replace('\\*','',regex=True)[['team','W','L']][~nba_df['team'].str.contains(\"Division\")]).reset_index(drop=True)\n",
    "    #display(nba_df)\n",
    "    nba_df = nba_df.astype({'W': 'int64','L': 'int64' }) \n",
    "    nba_df['W/L%'] = nba_df['W'] / (nba_df['W'] + nba_df['L'])\n",
    "    nba_df.drop(['W','L'], inplace=True, axis=1) \n",
    "    nba_df.rename(columns={'W/L%':'ratio'}, inplace=True)\n",
    "    nba_df['team'] = nba_df['team'].str.replace(r'\\*',\"\")\n",
    "    nba_df['team'] = nba_df['team'].str.split().str[-2]\n",
    " \n",
    "    #display(nba_df)\n",
    "\n",
    "    combined_city_nba_df = pd.merge(nba_df, cities_df,\n",
    "                                    how='inner', \n",
    "                                    left_on='team',\n",
    "                                    right_on='NBA').groupby('Metropolitan area').agg({'ratio': np.mean, 'Population': np.mean})                                      \n",
    "    #display(combined_city_nhl_df)                                                                            \n",
    "    \n",
    "    #combined_city_nba_df = combined_city_nba_df.groupby('Metropolitan area').agg({'ratio': np.mean, 'Population': np.mean})\n",
    "    #display(combined_city_nba_df)\n",
    "    \n",
    "    population_by_region = combined_city_nba_df['Population'] \n",
    "    win_loss_by_region = combined_city_nba_df['ratio']\n",
    "    \n",
    "    correlation = stats.pearsonr(population_by_region, win_loss_by_region)[0]\n",
    "    return population_by_region, win_loss_by_region, correlation\n",
    "\n",
    "# YOUR CODE HERE\n",
    "#raise NotImplementedError()"
   ]
  },
  {
   "cell_type": "code",
   "execution_count": 5,
   "metadata": {
    "deletable": false,
    "editable": false,
    "nbgrader": {
     "checksum": "1cdd841259cf2dc1531341b23a2eb46a",
     "grade": true,
     "grade_id": "cell-e573b2b4a282b470",
     "locked": true,
     "points": 20,
     "schema_version": 1,
     "solution": false
    }
   },
   "outputs": [],
   "source": [
    "population_by_region, win_loss_by_region, correlation = nba_correlation()\n",
    "assert len(population_by_region) == len(win_loss_by_region), \"Q2: Your lists must be the same length\"\n",
    "assert len(population_by_region) == 28, \"Q2: There should be 28 teams being analysed for NBA\"\n"
   ]
  },
  {
   "cell_type": "markdown",
   "metadata": {
    "deletable": false,
    "editable": false,
    "nbgrader": {
     "checksum": "95519d2a7e11dc0f0b88644cb145887d",
     "grade": false,
     "grade_id": "cell-96e15e4335df78f4",
     "locked": true,
     "schema_version": 1,
     "solution": false
    }
   },
   "source": [
    "## Question 3\n",
    "For this question, calculate the win percentage's correlation with the population of the city it is in for the **MLB** using **2018** data. The win percentage ratio should be calculated using the following formula: **win/(win+loss)**. Then, return (a) population per region, (b) win percentage ratio per region, and (c) the correlation between these two. "
   ]
  },
  {
   "cell_type": "code",
   "execution_count": 6,
   "metadata": {
    "deletable": false,
    "nbgrader": {
     "checksum": "e45ae57b65661a10c2b8052ef62eb2f9",
     "grade": false,
     "grade_id": "cell-33b00fc3f3467b0c",
     "locked": false,
     "schema_version": 1,
     "solution": true
    }
   },
   "outputs": [
    {
     "data": {
      "text/plain": [
       "(Metropolitan area\n",
       " Atlanta                    5789700.0\n",
       " Baltimore                  2798886.0\n",
       " Boston                     4794447.0\n",
       " Chicago                    9512999.0\n",
       " Cincinnati                 2165139.0\n",
       " Cleveland                  2055612.0\n",
       " Dallas–Fort Worth          7233323.0\n",
       " Denver                     2853077.0\n",
       " Detroit                    4297617.0\n",
       " Houston                    6772470.0\n",
       " Kansas City                2104509.0\n",
       " Los Angeles               13310447.0\n",
       " Miami–Fort Lauderdale      6066387.0\n",
       " Milwaukee                  1572482.0\n",
       " Minneapolis–Saint Paul     3551036.0\n",
       " New York City             20153634.0\n",
       " Philadelphia               6070500.0\n",
       " Phoenix                    4661537.0\n",
       " Pittsburgh                 2342299.0\n",
       " San Diego                  3317749.0\n",
       " San Francisco Bay Area     6657982.0\n",
       " Seattle                    3798902.0\n",
       " St. Louis                  2807002.0\n",
       " Tampa Bay Area             3032171.0\n",
       " Toronto                    5928040.0\n",
       " Washington, D.C.           6131977.0\n",
       " Name: Population, dtype: float64,\n",
       " Metropolitan area\n",
       " Atlanta                   0.555556\n",
       " Baltimore                 0.290123\n",
       " Boston                    0.666667\n",
       " Chicago                   0.482769\n",
       " Cincinnati                0.413580\n",
       " Cleveland                 0.561728\n",
       " Dallas–Fort Worth         0.413580\n",
       " Denver                    0.558282\n",
       " Detroit                   0.395062\n",
       " Houston                   0.635802\n",
       " Kansas City               0.358025\n",
       " Los Angeles               0.529122\n",
       " Miami–Fort Lauderdale     0.391304\n",
       " Milwaukee                 0.588957\n",
       " Minneapolis–Saint Paul    0.481481\n",
       " New York City             0.546296\n",
       " Philadelphia              0.493827\n",
       " Phoenix                   0.506173\n",
       " Pittsburgh                0.509317\n",
       " San Diego                 0.407407\n",
       " San Francisco Bay Area    0.524691\n",
       " Seattle                   0.549383\n",
       " St. Louis                 0.543210\n",
       " Tampa Bay Area            0.555556\n",
       " Toronto                   0.450617\n",
       " Washington, D.C.          0.506173\n",
       " Name: ratio, dtype: float64,\n",
       " 0.1502769830266931)"
      ]
     },
     "execution_count": 6,
     "metadata": {},
     "output_type": "execute_result"
    }
   ],
   "source": [
    "import pandas as pd\n",
    "import numpy as np\n",
    "import scipy.stats as stats\n",
    "import re\n",
    "\n",
    "\n",
    "def mlb_correlation():\n",
    "\n",
    "    mlb_df=pd.read_csv(\"assets/mlb.csv\")\n",
    "    cities_df=pd.read_html(\"assets/wikipedia_data.html\")[1]\n",
    "    cities_df=cities_df.iloc[:-1,[0,3,5,6,7,8]]\n",
    "    \n",
    "    cities_df.rename(columns={'Population (2016 est.)[8]':'Population'}, inplace=True)\n",
    "    cities_df = cities_df.astype({'Population': 'int64'}) \n",
    "    cities_df = cities_df.replace('(\\[note\\s\\d{1,10}\\])', '', regex=True)\n",
    "    cities_df = cities_df.replace('—[\\s]?', \" \", regex=True)\n",
    "    #display(cities_df)\n",
    "    \n",
    "    single_teams_df = cities_df['MLB'].str.replace( r\"(?<!\\s)(?=[A-Z])\", '+', regex=True)\n",
    "    single_teams_df= single_teams_df.str.lstrip('+')\n",
    "    single_teams_df= single_teams_df.str.split('+')\n",
    "    #display(single_teams_df)\n",
    "\n",
    "    cities_df['MLB'] = single_teams_df\n",
    "    cities_df = cities_df.drop(['NFL', 'NBA', 'NHL'], axis=1)\n",
    "    cities_df = cities_df.explode('MLB').reset_index(drop=True)\n",
    "    cities_df['MLB'] = cities_df['MLB'].str.split().str[-1]\n",
    "    #display(cities_df)\n",
    "    \n",
    "    mlb_df = (mlb_df[mlb_df['year'] == 2018]\n",
    "                  .replace('\\*','',regex=True)[['team','W','L']][~mlb_df['team'].str.contains(\"Division\")]).reset_index(drop=True)\n",
    "    #display(mlb_df)\n",
    "    mlb_df = mlb_df.astype({'W': 'int64','L': 'int64' }) \n",
    "    mlb_df['W/L%'] = mlb_df['W'] / (mlb_df['W'] + mlb_df['L'])\n",
    "    mlb_df.drop(['W','L'], inplace=True, axis=1) \n",
    "    mlb_df.rename(columns={'W/L%':'ratio'}, inplace=True)\n",
    "    mlb_df['team'] = mlb_df['team'].str.replace(r'\\*',\"\")\n",
    "    mlb_df['team'] = mlb_df['team'].str.split().str[-1]\n",
    " \n",
    "    #display(mlb_df)\n",
    "\n",
    "    combined_city_mlb_df = pd.merge(mlb_df, cities_df,\n",
    "                                    how='inner', \n",
    "                                    left_on='team',\n",
    "                                    right_on='MLB')\n",
    "    combined_city_mlb_df = combined_city_mlb_df.drop([0,3], axis=0).reset_index(drop=True)\n",
    "    #display(combined_city_mlb_df)   #inner, team, mlb                                                                         \n",
    "    \n",
    "    combined_city_mlb_df = combined_city_mlb_df.groupby('Metropolitan area').agg({'ratio': np.nanmean, 'Population': np.nanmean})\n",
    "    \n",
    "    #display(combined_city_mlb_df)\n",
    "    \n",
    "    population_by_region = combined_city_mlb_df['Population'] \n",
    "    win_loss_by_region = combined_city_mlb_df['ratio']\n",
    "    \n",
    "    correlation = stats.pearsonr(population_by_region, win_loss_by_region)[0]\n",
    "    return population_by_region, win_loss_by_region, correlation\n",
    "\n",
    "mlb_correlation()"
   ]
  },
  {
   "cell_type": "code",
   "execution_count": 7,
   "metadata": {
    "deletable": false,
    "editable": false,
    "nbgrader": {
     "checksum": "c9ef09a0fd2a99044d56cb69247c1565",
     "grade": true,
     "grade_id": "cell-764d4476f425c5a2",
     "locked": true,
     "points": 20,
     "schema_version": 1,
     "solution": false
    }
   },
   "outputs": [],
   "source": [
    "population_by_region, win_loss_by_region, correlation = mlb_correlation()\n",
    "\n",
    "assert len(population_by_region) == len(win_loss_by_region), \"Q3: Your lists must be the same length\"\n",
    "assert len(population_by_region) == 26, \"Q3: There should be 26 teams being analysed for MLB\"\n"
   ]
  },
  {
   "cell_type": "markdown",
   "metadata": {
    "deletable": false,
    "editable": false,
    "nbgrader": {
     "checksum": "d6e1509bce32e778b6fa941a688b8587",
     "grade": false,
     "grade_id": "cell-793df6c04dfb126e",
     "locked": true,
     "schema_version": 1,
     "solution": false
    }
   },
   "source": [
    "## Question 4\n",
    "For this question, calculate the win percentage's correlation with the population of the city it is in for the **NFL** using **2018** data. The win percentage ratio should be calculated using the following formula: **win/(win+loss)**. Then, return (a) population per region, (b) win percentage ratio per region, and (c) the correlation between these two. "
   ]
  },
  {
   "cell_type": "code",
   "execution_count": 8,
   "metadata": {
    "deletable": false,
    "nbgrader": {
     "checksum": "11bb44058f415ac22bcfcf84d0f81b4c",
     "grade": false,
     "grade_id": "cell-8ccebc209aeec8d9",
     "locked": false,
     "schema_version": 1,
     "solution": true
    }
   },
   "outputs": [
    {
     "data": {
      "text/plain": [
       "(Metropolitan area\n",
       " Atlanta                    5789700.0\n",
       " Baltimore                  2798886.0\n",
       " Boston                     4794447.0\n",
       " Buffalo                    1132804.0\n",
       " Charlotte                  2474314.0\n",
       " Chicago                    9512999.0\n",
       " Cincinnati                 2165139.0\n",
       " Cleveland                  2055612.0\n",
       " Dallas–Fort Worth          7233323.0\n",
       " Denver                     2853077.0\n",
       " Detroit                    4297617.0\n",
       " Green Bay                   318236.0\n",
       " Houston                    6772470.0\n",
       " Indianapolis               2004230.0\n",
       " Jacksonville               1478212.0\n",
       " Kansas City                2104509.0\n",
       " Los Angeles               13310447.0\n",
       " Miami–Fort Lauderdale      6066387.0\n",
       " Minneapolis–Saint Paul     3551036.0\n",
       " Nashville                  1865298.0\n",
       " New Orleans                1268883.0\n",
       " New York City             20153634.0\n",
       " Philadelphia               6070500.0\n",
       " Phoenix                    4661537.0\n",
       " Pittsburgh                 2342299.0\n",
       " San Francisco Bay Area     6657982.0\n",
       " Seattle                    3798902.0\n",
       " Tampa Bay Area             3032171.0\n",
       " Washington, D.C.           6131977.0\n",
       " Name: Population, dtype: float64,\n",
       " Metropolitan area\n",
       " Atlanta                   0.437500\n",
       " Baltimore                 0.625000\n",
       " Boston                    0.687500\n",
       " Buffalo                   0.375000\n",
       " Charlotte                 0.437500\n",
       " Chicago                   0.750000\n",
       " Cincinnati                0.375000\n",
       " Cleveland                 0.466667\n",
       " Dallas–Fort Worth         0.625000\n",
       " Denver                    0.375000\n",
       " Detroit                   0.375000\n",
       " Green Bay                 0.400000\n",
       " Houston                   0.687500\n",
       " Indianapolis              0.625000\n",
       " Jacksonville              0.312500\n",
       " Kansas City               0.750000\n",
       " Los Angeles               0.781250\n",
       " Miami–Fort Lauderdale     0.437500\n",
       " Minneapolis–Saint Paul    0.533333\n",
       " Nashville                 0.562500\n",
       " New Orleans               0.812500\n",
       " New York City             0.281250\n",
       " Philadelphia              0.562500\n",
       " Phoenix                   0.187500\n",
       " Pittsburgh                0.600000\n",
       " San Francisco Bay Area    0.250000\n",
       " Seattle                   0.625000\n",
       " Tampa Bay Area            0.312500\n",
       " Washington, D.C.          0.437500\n",
       " Name: ratio, dtype: float64,\n",
       " 0.004922112149349354)"
      ]
     },
     "execution_count": 8,
     "metadata": {},
     "output_type": "execute_result"
    }
   ],
   "source": [
    "import pandas as pd\n",
    "import numpy as np\n",
    "import scipy.stats as stats\n",
    "import re\n",
    "\n",
    "def nfl_correlation(): \n",
    "    \n",
    "    nfl_df=pd.read_csv(\"assets/nfl.csv\")\n",
    "    #display(nfl_df)\n",
    "    cities_df=pd.read_html(\"assets/wikipedia_data.html\")[1]\n",
    "    cities_df=cities_df.iloc[:-1,[0,3,5,6,7,8]]\n",
    "    \n",
    "    cities_df.rename(columns={'Population (2016 est.)[8]':'Population'}, inplace=True)\n",
    "    cities_df = cities_df.astype({'Population': 'int64'}) \n",
    "    cities_df = cities_df.replace('(\\[note\\s\\d{1,10}\\])', '', regex=True)\n",
    "    cities_df = cities_df.replace('—[\\s]?', \" \", regex=True)\n",
    "   \n",
    "    #display(cities_df)\n",
    "    \n",
    "    single_teams_df = cities_df['NFL'].str.replace( r\"(?<!\\s)(?=[A-Z])\", '+', regex=True)\n",
    "    single_teams_df= single_teams_df.str.lstrip('+')\n",
    "    single_teams_df= single_teams_df.str.split('+')\n",
    "    #display(single_teams_df)\n",
    "\n",
    "    cities_df['NFL'] = single_teams_df\n",
    "    cities_df = cities_df.drop(['MLB', 'NBA', 'NHL'], axis=1)\n",
    "    cities_df = cities_df.explode('NFL').reset_index(drop=True)\n",
    "    cities_df['NFL'] = cities_df['NFL'].str.split().str[-1]\n",
    "    \n",
    "    #cities_df['NFL']= cities_df['NFL'].dropna().reset_index(drop=True)\n",
    "    #display(cities_df)\n",
    "    #display(nfl_df)\n",
    "    \n",
    "    nfl_df = (nfl_df[nfl_df['year'] == 2018]\n",
    "              .replace('\\*','',regex=True)[['team','W','L']][~nfl_df['team'].str.contains(\"FC\")]).reset_index(drop=True)\n",
    "    \n",
    "    #display(nfl_df)\n",
    "\n",
    "    nfl_df = nfl_df.astype({'W': 'int64','L': 'int64' }) \n",
    "    nfl_df['W/L%'] = nfl_df['W'] / (nfl_df['W'] + nfl_df['L'])\n",
    "    #nfl_df.drop(['W','L'], inplace=True, axis=1)\n",
    "    nfl_df.rename(columns={'W/L%':'ratio'}, inplace=True)\n",
    "    nfl_df['team'] = nfl_df['team'].str.replace(r'\\*',\"\")\n",
    "    nfl_df['team'] = nfl_df['team'].str.split().str[-1]\n",
    "    nfl_df['team'] = nfl_df['team'].str.strip('+')\n",
    "\n",
    "\n",
    "    #display(cities_df)\n",
    "    #display(nfl_df)\n",
    "    \n",
    "    combined_city_nfl_df = pd.merge(nfl_df, cities_df,\n",
    "                                    how='inner', \n",
    "                                    left_on='team',\n",
    "                                    right_on='NFL').groupby('Metropolitan area').agg({'ratio': np.mean, 'Population': np.mean})\n",
    " \n",
    "    #nfl_df = nfl_df.drop([10,17,29], axis=0).reset_index(drop=True)\n",
    "    #display(nfl_df)\n",
    "    \n",
    "    #combined_city_nfl_df = combined_city_nfl_df.drop([10,17,19], axis=0).reset_index(drop=True)\n",
    "    \n",
    "    #display(combined_city_nfl_df)\n",
    "    \n",
    "    #combined_city_nfl_df = combined_city_nfl_df.groupby('Metropolitan area').agg({'ratio': np.mean, 'Population': np.mean})\n",
    "    #display(combined_city_nfl_df)\n",
    "    #display(nfl_df)\n",
    "    \n",
    "    population_by_region = combined_city_nfl_df['Population'] \n",
    "    win_loss_by_region = combined_city_nfl_df['ratio']\n",
    "    \n",
    "    correlation = stats.pearsonr(population_by_region, win_loss_by_region)[0]\n",
    "    return population_by_region, win_loss_by_region, correlation\n",
    "\n",
    "    #raleigh nc, charlotte nc\n",
    "\n",
    "nfl_correlation()"
   ]
  },
  {
   "cell_type": "code",
   "execution_count": 9,
   "metadata": {},
   "outputs": [],
   "source": [
    "population_by_region, win_loss_by_region, correlation = nfl_correlation()\n",
    "\n",
    "assert len(population_by_region) == len(win_loss_by_region), \"Q4: Your lists must be the same length\"\n",
    "assert len(population_by_region) == 29, \"Q4: There should be 29 teams being analysed for NFL\"\n"
   ]
  },
  {
   "cell_type": "code",
   "execution_count": 10,
   "metadata": {
    "deletable": false,
    "editable": false,
    "nbgrader": {
     "checksum": "39bb0f4ac7a643fbd311e21986af427b",
     "grade": true,
     "grade_id": "cell-de7b148b9554dbda",
     "locked": true,
     "points": 20,
     "schema_version": 1,
     "solution": false
    }
   },
   "outputs": [],
   "source": [
    "## population_by_region, win_loss_by_region, correlation = nfl_correlation()\n",
    "\n",
    "assert len(population_by_region) == len(win_loss_by_region), \"Q4: Your lists must be the same length\"\n",
    "assert len(population_by_region) == 29, \"Q4: There should be 29 teams being analysed for NFL\"\n"
   ]
  },
  {
   "cell_type": "markdown",
   "metadata": {
    "deletable": false,
    "editable": false,
    "nbgrader": {
     "checksum": "b02d5cd3273f561e4ae939bb2a41740c",
     "grade": false,
     "grade_id": "cell-97b49d8639e908c4",
     "locked": true,
     "schema_version": 1,
     "solution": false
    }
   },
   "source": [
    "## Question 5\n",
    "In this question I would like you to explore the hypothesis that **given that an area has two sports teams in different sports, those teams will perform the same within their respective sports**. How I would like to see this explored is with a series of paired t-tests (so use [`ttest_rel`](https://docs.scipy.org/doc/scipy/reference/generated/scipy.stats.ttest_rel.html)) between all pairs of sports. Are there any sports where we can reject the null hypothesis? Again, average values where a sport has multiple teams in one region. Remember, you will only be including, for each sport, cities which have teams engaged in that sport, drop others as appropriate. This question is worth 20% of the grade for this assignment."
   ]
  },
  {
   "cell_type": "code",
   "execution_count": 1,
   "metadata": {
    "deletable": false,
    "nbgrader": {
     "checksum": "63c67a33508cd34aa4b2ea2510adcce5",
     "grade": false,
     "grade_id": "cell-92f25f44b8d1179f",
     "locked": false,
     "schema_version": 1,
     "solution": true
    }
   },
   "outputs": [
    {
     "ename": "RecursionError",
     "evalue": "maximum recursion depth exceeded while calling a Python object",
     "output_type": "error",
     "traceback": [
      "\u001b[0;31m---------------------------------------------------------------------------\u001b[0m",
      "\u001b[0;31mRecursionError\u001b[0m                            Traceback (most recent call last)",
      "\u001b[0;32m/tmp/ipykernel_265/2178831286.py\u001b[0m in \u001b[0;36m<module>\u001b[0;34m\u001b[0m\n\u001b[1;32m     27\u001b[0m     \u001b[0;31m#return p_values\u001b[0m\u001b[0;34m\u001b[0m\u001b[0;34m\u001b[0m\u001b[0;34m\u001b[0m\u001b[0m\n\u001b[1;32m     28\u001b[0m \u001b[0;34m\u001b[0m\u001b[0m\n\u001b[0;32m---> 29\u001b[0;31m \u001b[0msports_team_performance\u001b[0m\u001b[0;34m(\u001b[0m\u001b[0;34m)\u001b[0m\u001b[0;34m\u001b[0m\u001b[0;34m\u001b[0m\u001b[0m\n\u001b[0m",
      "\u001b[0;32m/tmp/ipykernel_265/2178831286.py\u001b[0m in \u001b[0;36msports_team_performance\u001b[0;34m()\u001b[0m\n\u001b[1;32m     23\u001b[0m     \u001b[0msports\u001b[0m \u001b[0;34m=\u001b[0m \u001b[0;34m[\u001b[0m\u001b[0;34m'NFL'\u001b[0m\u001b[0;34m,\u001b[0m \u001b[0;34m'NBA'\u001b[0m\u001b[0;34m,\u001b[0m \u001b[0;34m'NHL'\u001b[0m\u001b[0;34m,\u001b[0m \u001b[0;34m'MLB'\u001b[0m\u001b[0;34m]\u001b[0m\u001b[0;34m\u001b[0m\u001b[0;34m\u001b[0m\u001b[0m\n\u001b[1;32m     24\u001b[0m     \u001b[0mp_values\u001b[0m \u001b[0;34m=\u001b[0m \u001b[0mpd\u001b[0m\u001b[0;34m.\u001b[0m\u001b[0mDataFrame\u001b[0m\u001b[0;34m(\u001b[0m\u001b[0;34m{\u001b[0m\u001b[0mk\u001b[0m\u001b[0;34m:\u001b[0m\u001b[0mnp\u001b[0m\u001b[0;34m.\u001b[0m\u001b[0mnan\u001b[0m \u001b[0;32mfor\u001b[0m \u001b[0mk\u001b[0m \u001b[0;32min\u001b[0m \u001b[0msports\u001b[0m\u001b[0;34m}\u001b[0m\u001b[0;34m,\u001b[0m \u001b[0mindex\u001b[0m\u001b[0;34m=\u001b[0m\u001b[0msports\u001b[0m\u001b[0;34m)\u001b[0m\u001b[0;34m\u001b[0m\u001b[0;34m\u001b[0m\u001b[0m\n\u001b[0;32m---> 25\u001b[0;31m     \u001b[0mp_values\u001b[0m \u001b[0;34m=\u001b[0m \u001b[0msports_team_performance\u001b[0m\u001b[0;34m(\u001b[0m\u001b[0;34m)\u001b[0m\u001b[0;34m\u001b[0m\u001b[0;34m\u001b[0m\u001b[0m\n\u001b[0m\u001b[1;32m     26\u001b[0m \u001b[0;34m\u001b[0m\u001b[0m\n\u001b[1;32m     27\u001b[0m     \u001b[0;31m#return p_values\u001b[0m\u001b[0;34m\u001b[0m\u001b[0;34m\u001b[0m\u001b[0;34m\u001b[0m\u001b[0m\n",
      "... last 1 frames repeated, from the frame below ...\n",
      "\u001b[0;32m/tmp/ipykernel_265/2178831286.py\u001b[0m in \u001b[0;36msports_team_performance\u001b[0;34m()\u001b[0m\n\u001b[1;32m     23\u001b[0m     \u001b[0msports\u001b[0m \u001b[0;34m=\u001b[0m \u001b[0;34m[\u001b[0m\u001b[0;34m'NFL'\u001b[0m\u001b[0;34m,\u001b[0m \u001b[0;34m'NBA'\u001b[0m\u001b[0;34m,\u001b[0m \u001b[0;34m'NHL'\u001b[0m\u001b[0;34m,\u001b[0m \u001b[0;34m'MLB'\u001b[0m\u001b[0;34m]\u001b[0m\u001b[0;34m\u001b[0m\u001b[0;34m\u001b[0m\u001b[0m\n\u001b[1;32m     24\u001b[0m     \u001b[0mp_values\u001b[0m \u001b[0;34m=\u001b[0m \u001b[0mpd\u001b[0m\u001b[0;34m.\u001b[0m\u001b[0mDataFrame\u001b[0m\u001b[0;34m(\u001b[0m\u001b[0;34m{\u001b[0m\u001b[0mk\u001b[0m\u001b[0;34m:\u001b[0m\u001b[0mnp\u001b[0m\u001b[0;34m.\u001b[0m\u001b[0mnan\u001b[0m \u001b[0;32mfor\u001b[0m \u001b[0mk\u001b[0m \u001b[0;32min\u001b[0m \u001b[0msports\u001b[0m\u001b[0;34m}\u001b[0m\u001b[0;34m,\u001b[0m \u001b[0mindex\u001b[0m\u001b[0;34m=\u001b[0m\u001b[0msports\u001b[0m\u001b[0;34m)\u001b[0m\u001b[0;34m\u001b[0m\u001b[0;34m\u001b[0m\u001b[0m\n\u001b[0;32m---> 25\u001b[0;31m     \u001b[0mp_values\u001b[0m \u001b[0;34m=\u001b[0m \u001b[0msports_team_performance\u001b[0m\u001b[0;34m(\u001b[0m\u001b[0;34m)\u001b[0m\u001b[0;34m\u001b[0m\u001b[0;34m\u001b[0m\u001b[0m\n\u001b[0m\u001b[1;32m     26\u001b[0m \u001b[0;34m\u001b[0m\u001b[0m\n\u001b[1;32m     27\u001b[0m     \u001b[0;31m#return p_values\u001b[0m\u001b[0;34m\u001b[0m\u001b[0;34m\u001b[0m\u001b[0;34m\u001b[0m\u001b[0m\n",
      "\u001b[0;31mRecursionError\u001b[0m: maximum recursion depth exceeded while calling a Python object"
     ]
    }
   ],
   "source": [
    "import pandas as pd\n",
    "import numpy as np\n",
    "import scipy.stats as stats\n",
    "import re\n",
    "\n",
    "def sports_team_performance():\n",
    "\n",
    "    mlb_df = pd.read_csv(\"assets/mlb.csv\")\n",
    "    nhl_df = pd.read_csv(\"assets/nhl.csv\")\n",
    "    nba_df = pd.read_csv(\"assets/nba.csv\")\n",
    "    nfl_df = pd.read_csv(\"assets/nfl.csv\")\n",
    "    cities_df = pd.read_html(\"assets/wikipedia_data.html\",na_values='—')[1]\n",
    "    cities_df = cities_df.iloc[:-1,[0,3,5,6,7,8]]    \n",
    "    \n",
    "    cities_df = cities_df.replace(\"\\[.*\\]\",\"\", regex=True).replace(r'^\\s*$', np.nan, regex=True).replace(r'—', np.nan, regex=True)\n",
    "    cities_df.rename(columns={'Population (2016 est.)[8]':'Population'}, inplace=True)\n",
    "    cities_df = cities_df.astype({'Population': 'int64'}) \n",
    "    cities_df = cities_df.replace('(\\[note\\s\\d{1,10}\\])', '', regex=True)\n",
    "    cities_df = cities_df.replace('—[\\s]?', \" \", regex=True)\n",
    "    #display(cities_df)\n",
    "    \n",
    "\n",
    "    sports = ['NFL', 'NBA', 'NHL', 'MLB']\n",
    "    p_values = pd.DataFrame({k:np.nan for k in sports}, index=sports)\n",
    "    p_values = sports_team_performance()\n",
    "    \n",
    "    #return p_values\n",
    "\n",
    "sports_team_performance()"
   ]
  },
  {
   "cell_type": "code",
   "execution_count": null,
   "metadata": {
    "deletable": false,
    "editable": false,
    "nbgrader": {
     "checksum": "a5dab090ee78f5c846c6d8b54e82c4c1",
     "grade": true,
     "grade_id": "cell-fb4b9cb5ff4570a6",
     "locked": true,
     "points": 20,
     "schema_version": 1,
     "solution": false
    }
   },
   "outputs": [],
   "source": [
    "p_values = sports_team_performance()\n",
    "\n",
    "assert abs(p_values.loc[\"NBA\", \"NHL\"] - 0.02) <= 1e-2, \"The NBA-NHL p-value should be around 0.02\"\n",
    "assert abs(p_values.loc[\"MLB\", \"NFL\"] - 0.80) <= 1e-2, \"The MLB-NFL p-value should be around 0.80\"\n"
   ]
  },
  {
   "cell_type": "code",
   "execution_count": null,
   "metadata": {},
   "outputs": [],
   "source": []
  }
 ],
 "metadata": {
  "coursera": {
   "schema_names": [
    "mads_data_manipulation_v1_assignment4"
   ]
  },
  "etc_identifier": "52a3aad4-991f-4b77-abc7-fb11b5881c0b",
  "kernelspec": {
   "display_name": "Python 3 (ipykernel)",
   "language": "python",
   "name": "python3"
  },
  "language_info": {
   "codemirror_mode": {
    "name": "ipython",
    "version": 3
   },
   "file_extension": ".py",
   "mimetype": "text/x-python",
   "name": "python",
   "nbconvert_exporter": "python",
   "pygments_lexer": "ipython3",
   "version": "3.7.10"
  }
 },
 "nbformat": 4,
 "nbformat_minor": 4
}
